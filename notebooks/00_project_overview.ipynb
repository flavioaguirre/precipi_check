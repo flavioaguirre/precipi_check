{
 "cells": [
  {
   "cell_type": "markdown",
   "id": "7295539c",
   "metadata": {},
   "source": [
    "<p style=\"text-align:center\"> \n",
    "    <a href=\"https://www.linkedin.com/in/flavio-aguirre-12784a252/\" target=\"_blank\"> \n",
    "    <img src=\"../assets/logo.png\" width=\"200\" alt=\"Flavio Aguirre Logo\"> \n",
    "    </a>\n",
    "</p>\n",
    "\n",
    "# <h1 align=\"center\"><font size=\"7\"><strong>Weather Wise</strong></font></h1>"
   ]
  },
  {
   "cell_type": "markdown",
   "id": "ac8eff66",
   "metadata": {},
   "source": [
    "<hr>"
   ]
  },
  {
   "cell_type": "markdown",
   "id": "cb4be1f8",
   "metadata": {},
   "source": [
    "In this project, we are a data scientist at WeatherTech Inc. responsible for creating a model that can predict whether or not it will rain tomorrow based on historical weather data. The provided dataset includes various meteorological features such as temperature, humidity, and wind speed.\n",
    "\n",
    "Therefore, we will build a machine learning classifier that predicts precipitation by calculating historical weather data.\n",
    "\n",
    "This will require specific tasks such as:\n",
    "* Explore and prepare the dataset: Feature engineering and cleaning.\n",
    "* Build a classification pipeline: Model selection, training, and optimization.\n",
    "* Evaluate model performance: Interpret metrics and visualizations."
   ]
  },
  {
   "cell_type": "markdown",
   "id": "65215a67",
   "metadata": {},
   "source": [
    "<hr>"
   ]
  },
  {
   "cell_type": "markdown",
   "id": "06698ebf",
   "metadata": {},
   "source": [
    "# About the dataset\n",
    "The original source of the data is the Australian Government Bureau of Meteorology. The most recent data can be found at [http://www.bom.gov.au/climate/dwo/](http://www.bom.gov.au/climate/dwo/?utm_medium=Exinfluencer&utm_source=Exinfluencer&utm_content=000026UJ&utm_term=10006555&utm_id=NA-SkillsNetwork-Channel-SkillsNetworkCoursesIBMDeveloperSkillsNetworkML0101ENSkillsNetwork20718538-2022-01-01).\n",
    "\n",
    "The dataset we will be using in this project was downloaded from Kaggle at [https://www.kaggle.com/datasets/jsphyg/weather-dataset-rattle-package/](https://www.kaggle.com/datasets/jsphyg/weather-dataset-rattle-package?resource=download&select=weatherAUS.csv)\n",
    "The column definitions were obtained from [http://www.bom.gov.au/climate/dwo/IDCJDW0000.shtml](http://www.bom.gov.au/climate/dwo/IDCJDW0000.shtml?utm_medium=Exinfluencer&utm_source=Exinfluencer&utm_content=000026UJ&utm_term=10006555&utm_id=NA-SkillsNetwork-Channel-SkillsNetworkCoursesIBMDeveloperSkillsNetworkML0101ENSkillsNetwork20718538-2022-01-01)\n",
    "\n",
    "The dataset contains daily weather metric observations from 2008 to 2017 and includes the following fields:\n",
    "\n",
    "| Field | Description | Unit | Type |\n",
    "| :------------ | :------------------------------------------------------------ | :-------------- | :----- |\n",
    "| Date | Date of the Observation in YYYY-MM-DD | Date | objects |\n",
    "| Location | Location of the Observation | Location | objects |\n",
    "| MinTemp | Minimum temperature | Celsius | float |\n",
    "| MaxTemp | Maximum temperature | Celsius | float |\n",
    "| Rainfall | Amount of rainfall | Millimeters | float |\n",
    "| Evaporation | Amount of evaporation | Millimeters | float |\n",
    "| Sunshine | Amount of bright sunshine | hours | float |\n",
    "| WindGustDir | Direction of the strongest taste | Compass Points | objects |\n",
    "| WindGustSpeed ​​| Speed ​​of the strongest taste | Kilometers/Hour | objects |\n",
    "| WindDir9am | Wind direction averaged over 10 minutes prior to 9am | Compass Points | objects |\n",
    "| WindDir3pm | Wind direction averaged over 10 minutes prior to 3pm | Compass Points | objects |\n",
    "| WindSpeed9am | Wind speed averaged over 10 minutes prior to 9am | Kilometers/Hour | float |\n",
    "| WindSpeed3pm | Wind speed averaged over 10 minutes prior to 3pm | Kilometers/Hour | float |\n",
    "| Humidity9am | Humidity at 9am | Percent | float |\n",
    "| Humidity3pm | Humidity at 3pm | Percent | float |\n",
    "| Pressure9am | Atmospheric pressure reduced to mean sea level at 9am | Hectopascal | float |\n",
    "| Pressure3pm | Atmospheric pressure reduced to mean sea level at 3pm | Hectopascal | float |\n",
    "| Cloud9am | Fraction of the sky obscured by cloud at 9am | Eights | float |\n",
    "| Cloud3pm | Fraction of the sky obscured by cloud at 3pm | Eights | float |\n",
    "| Temp9am | Temperature at 9am | Celsius | float |\n",
    "| Temp3pm | Temperature at 3pm | Celsius | float |\n",
    "| RainToday | If there was at least 1mm of rain today | Yes/No | objects |\n",
    "| RainTomorrow | If there is at least 1mm of rain tomorrow | Yes/No | objects |"
   ]
  }
 ],
 "metadata": {
  "language_info": {
   "name": "python"
  }
 },
 "nbformat": 4,
 "nbformat_minor": 5
}
