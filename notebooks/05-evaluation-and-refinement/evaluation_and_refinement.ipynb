{
 "cells": [
  {
   "cell_type": "markdown",
   "id": "b3c8b324",
   "metadata": {},
   "source": [
    "<p style=\"text-align:center\"> \n",
    "    <a href=\"https://www.linkedin.com/in/flavio-aguirre-12784a252/\" target=\"_blank\"> \n",
    "    <img src=\"../../assets/logo.png\" width=\"200\" alt=\"Flavio Aguirre Logo\"> \n",
    "    </a>\n",
    "</p>\n",
    "\n",
    "# <h1 align=\"center\"><font size=\"7\"><strong>Weather Wise</strong></font></h1>\n",
    "<hr>"
   ]
  },
  {
   "cell_type": "markdown",
   "id": "8a031f21",
   "metadata": {},
   "source": [
    "# Model evaluation and refinement"
   ]
  },
  {
   "cell_type": "code",
   "execution_count": 1,
   "id": "abcc8f43",
   "metadata": {},
   "outputs": [],
   "source": [
    "import pandas as pd\n",
    "import numpy as np\n",
    "import matplotlib.pyplot as plt\n",
    "import seaborn as sns\n",
    "import joblib\n",
    "\n",
    "from sklearn.model_selection import train_test_split\n",
    "from sklearn.metrics import (\n",
    "    accuracy_score, precision_score, roc_auc_score, recall_score, f1_score,\n",
    "    classification_report, confusion_matrix, ConfusionMatrixDisplay\n",
    "    )\n",
    "\n",
    "import warnings\n",
    "warnings.filterwarnings(\"ignore\")"
   ]
  },
  {
   "cell_type": "code",
   "execution_count": 2,
   "id": "015bbf27",
   "metadata": {},
   "outputs": [
    {
     "name": "stdout",
     "output_type": "stream",
     "text": [
      "load success\n"
     ]
    },
    {
     "data": {
      "application/vnd.microsoft.datawrangler.viewer.v0+json": {
       "columns": [
        {
         "name": "index",
         "rawType": "int64",
         "type": "integer"
        },
        {
         "name": "Location",
         "rawType": "object",
         "type": "string"
        },
        {
         "name": "MinTemp",
         "rawType": "float64",
         "type": "float"
        },
        {
         "name": "MaxTemp",
         "rawType": "float64",
         "type": "float"
        },
        {
         "name": "Rainfall",
         "rawType": "float64",
         "type": "float"
        },
        {
         "name": "Evaporation",
         "rawType": "float64",
         "type": "float"
        },
        {
         "name": "Sunshine",
         "rawType": "float64",
         "type": "float"
        },
        {
         "name": "WindGustDir",
         "rawType": "object",
         "type": "string"
        },
        {
         "name": "WindGustSpeed",
         "rawType": "float64",
         "type": "float"
        },
        {
         "name": "WindDir9am",
         "rawType": "object",
         "type": "string"
        },
        {
         "name": "WindDir3pm",
         "rawType": "object",
         "type": "string"
        },
        {
         "name": "WindSpeed9am",
         "rawType": "float64",
         "type": "float"
        },
        {
         "name": "WindSpeed3pm",
         "rawType": "float64",
         "type": "float"
        },
        {
         "name": "Humidity9am",
         "rawType": "float64",
         "type": "float"
        },
        {
         "name": "Humidity3pm",
         "rawType": "float64",
         "type": "float"
        },
        {
         "name": "Pressure9am",
         "rawType": "float64",
         "type": "float"
        },
        {
         "name": "Pressure3pm",
         "rawType": "float64",
         "type": "float"
        },
        {
         "name": "Cloud9am",
         "rawType": "float64",
         "type": "float"
        },
        {
         "name": "Cloud3pm",
         "rawType": "float64",
         "type": "float"
        },
        {
         "name": "Temp9am",
         "rawType": "float64",
         "type": "float"
        },
        {
         "name": "Temp3pm",
         "rawType": "float64",
         "type": "float"
        },
        {
         "name": "RainYesterday",
         "rawType": "object",
         "type": "string"
        },
        {
         "name": "RainToday",
         "rawType": "object",
         "type": "string"
        },
        {
         "name": "Season",
         "rawType": "object",
         "type": "string"
        },
        {
         "name": "TempDiff",
         "rawType": "float64",
         "type": "float"
        },
        {
         "name": "TempChange",
         "rawType": "float64",
         "type": "float"
        },
        {
         "name": "PressureDiff",
         "rawType": "float64",
         "type": "float"
        },
        {
         "name": "HumidityDiff",
         "rawType": "float64",
         "type": "float"
        },
        {
         "name": "WindSpeedDiff",
         "rawType": "float64",
         "type": "float"
        },
        {
         "name": "AvgHumidity",
         "rawType": "float64",
         "type": "float"
        },
        {
         "name": "AvgTemp",
         "rawType": "float64",
         "type": "float"
        },
        {
         "name": "RainfallPerSunshine",
         "rawType": "float64",
         "type": "float"
        }
       ],
       "conversionMethod": "pd.DataFrame",
       "ref": "9a37ba06-4071-4236-bb96-e277bf2f74d1",
       "rows": [
        [
         "0",
         "MelbourneAirport",
         "11.2",
         "19.9",
         "0.0",
         "5.6",
         "8.8",
         "SW",
         "69.0",
         "W",
         "SW",
         "33.0",
         "43.0",
         "55.0",
         "37.0",
         "1005.1",
         "1006.4",
         "7.0",
         "7.0",
         "15.9",
         "18.1",
         "No",
         "Yes",
         "Summer",
         "8.7",
         "2.200000000000001",
         "1.2999999999999543",
         "-18.0",
         "10.0",
         "46.0",
         "17.0",
         "0.0"
        ],
        [
         "1",
         "MelbourneAirport",
         "7.8",
         "17.8",
         "1.2",
         "7.2",
         "12.9",
         "SSE",
         "56.0",
         "SW",
         "SSE",
         "31.0",
         "26.0",
         "50.0",
         "43.0",
         "1018.0",
         "1019.3",
         "6.0",
         "7.0",
         "12.5",
         "15.8",
         "Yes",
         "No",
         "Summer",
         "10.0",
         "3.3000000000000007",
         "1.2999999999999543",
         "-7.0",
         "-5.0",
         "46.5",
         "14.15",
         "0.0923076923076923"
        ],
        [
         "2",
         "MelbourneAirport",
         "6.3",
         "21.1",
         "0.0",
         "6.2",
         "10.5",
         "SSE",
         "31.0",
         "E",
         "S",
         "13.0",
         "19.0",
         "51.0",
         "35.0",
         "1020.8",
         "1017.6",
         "1.0",
         "7.0",
         "13.4",
         "19.6",
         "No",
         "No",
         "Summer",
         "14.8",
         "6.200000000000001",
         "-3.199999999999932",
         "-16.0",
         "6.0",
         "43.0",
         "16.5",
         "0.0"
        ],
        [
         "3",
         "MelbourneAirport",
         "8.1",
         "29.2",
         "0.0",
         "6.4",
         "12.5",
         "SSE",
         "35.0",
         "NE",
         "SSE",
         "2.0",
         "20.0",
         "67.0",
         "23.0",
         "1016.2",
         "1012.8",
         "5.0",
         "4.0",
         "16.0",
         "28.2",
         "No",
         "No",
         "Summer",
         "21.1",
         "12.2",
         "-3.400000000000091",
         "-44.0",
         "18.0",
         "45.0",
         "22.1",
         "0.0"
        ],
        [
         "4",
         "MelbourneAirport",
         "9.7",
         "29.0",
         "0.0",
         "7.4",
         "12.3",
         "SE",
         "33.0",
         "SW",
         "SSE",
         "9.0",
         "20.0",
         "51.0",
         "31.0",
         "1011.9",
         "1010.3",
         "6.0",
         "2.0",
         "19.4",
         "27.1",
         "No",
         "No",
         "Summer",
         "19.3",
         "7.700000000000003",
         "-1.6000000000000227",
         "-20.0",
         "11.0",
         "41.0",
         "23.25",
         "0.0"
        ]
       ],
       "shape": {
        "columns": 31,
        "rows": 5
       }
      },
      "text/html": [
       "<div>\n",
       "<style scoped>\n",
       "    .dataframe tbody tr th:only-of-type {\n",
       "        vertical-align: middle;\n",
       "    }\n",
       "\n",
       "    .dataframe tbody tr th {\n",
       "        vertical-align: top;\n",
       "    }\n",
       "\n",
       "    .dataframe thead th {\n",
       "        text-align: right;\n",
       "    }\n",
       "</style>\n",
       "<table border=\"1\" class=\"dataframe\">\n",
       "  <thead>\n",
       "    <tr style=\"text-align: right;\">\n",
       "      <th></th>\n",
       "      <th>Location</th>\n",
       "      <th>MinTemp</th>\n",
       "      <th>MaxTemp</th>\n",
       "      <th>Rainfall</th>\n",
       "      <th>Evaporation</th>\n",
       "      <th>Sunshine</th>\n",
       "      <th>WindGustDir</th>\n",
       "      <th>WindGustSpeed</th>\n",
       "      <th>WindDir9am</th>\n",
       "      <th>WindDir3pm</th>\n",
       "      <th>...</th>\n",
       "      <th>RainToday</th>\n",
       "      <th>Season</th>\n",
       "      <th>TempDiff</th>\n",
       "      <th>TempChange</th>\n",
       "      <th>PressureDiff</th>\n",
       "      <th>HumidityDiff</th>\n",
       "      <th>WindSpeedDiff</th>\n",
       "      <th>AvgHumidity</th>\n",
       "      <th>AvgTemp</th>\n",
       "      <th>RainfallPerSunshine</th>\n",
       "    </tr>\n",
       "  </thead>\n",
       "  <tbody>\n",
       "    <tr>\n",
       "      <th>0</th>\n",
       "      <td>MelbourneAirport</td>\n",
       "      <td>11.2</td>\n",
       "      <td>19.9</td>\n",
       "      <td>0.0</td>\n",
       "      <td>5.6</td>\n",
       "      <td>8.8</td>\n",
       "      <td>SW</td>\n",
       "      <td>69.0</td>\n",
       "      <td>W</td>\n",
       "      <td>SW</td>\n",
       "      <td>...</td>\n",
       "      <td>Yes</td>\n",
       "      <td>Summer</td>\n",
       "      <td>8.7</td>\n",
       "      <td>2.2</td>\n",
       "      <td>1.3</td>\n",
       "      <td>-18.0</td>\n",
       "      <td>10.0</td>\n",
       "      <td>46.0</td>\n",
       "      <td>17.00</td>\n",
       "      <td>0.000000</td>\n",
       "    </tr>\n",
       "    <tr>\n",
       "      <th>1</th>\n",
       "      <td>MelbourneAirport</td>\n",
       "      <td>7.8</td>\n",
       "      <td>17.8</td>\n",
       "      <td>1.2</td>\n",
       "      <td>7.2</td>\n",
       "      <td>12.9</td>\n",
       "      <td>SSE</td>\n",
       "      <td>56.0</td>\n",
       "      <td>SW</td>\n",
       "      <td>SSE</td>\n",
       "      <td>...</td>\n",
       "      <td>No</td>\n",
       "      <td>Summer</td>\n",
       "      <td>10.0</td>\n",
       "      <td>3.3</td>\n",
       "      <td>1.3</td>\n",
       "      <td>-7.0</td>\n",
       "      <td>-5.0</td>\n",
       "      <td>46.5</td>\n",
       "      <td>14.15</td>\n",
       "      <td>0.092308</td>\n",
       "    </tr>\n",
       "    <tr>\n",
       "      <th>2</th>\n",
       "      <td>MelbourneAirport</td>\n",
       "      <td>6.3</td>\n",
       "      <td>21.1</td>\n",
       "      <td>0.0</td>\n",
       "      <td>6.2</td>\n",
       "      <td>10.5</td>\n",
       "      <td>SSE</td>\n",
       "      <td>31.0</td>\n",
       "      <td>E</td>\n",
       "      <td>S</td>\n",
       "      <td>...</td>\n",
       "      <td>No</td>\n",
       "      <td>Summer</td>\n",
       "      <td>14.8</td>\n",
       "      <td>6.2</td>\n",
       "      <td>-3.2</td>\n",
       "      <td>-16.0</td>\n",
       "      <td>6.0</td>\n",
       "      <td>43.0</td>\n",
       "      <td>16.50</td>\n",
       "      <td>0.000000</td>\n",
       "    </tr>\n",
       "    <tr>\n",
       "      <th>3</th>\n",
       "      <td>MelbourneAirport</td>\n",
       "      <td>8.1</td>\n",
       "      <td>29.2</td>\n",
       "      <td>0.0</td>\n",
       "      <td>6.4</td>\n",
       "      <td>12.5</td>\n",
       "      <td>SSE</td>\n",
       "      <td>35.0</td>\n",
       "      <td>NE</td>\n",
       "      <td>SSE</td>\n",
       "      <td>...</td>\n",
       "      <td>No</td>\n",
       "      <td>Summer</td>\n",
       "      <td>21.1</td>\n",
       "      <td>12.2</td>\n",
       "      <td>-3.4</td>\n",
       "      <td>-44.0</td>\n",
       "      <td>18.0</td>\n",
       "      <td>45.0</td>\n",
       "      <td>22.10</td>\n",
       "      <td>0.000000</td>\n",
       "    </tr>\n",
       "    <tr>\n",
       "      <th>4</th>\n",
       "      <td>MelbourneAirport</td>\n",
       "      <td>9.7</td>\n",
       "      <td>29.0</td>\n",
       "      <td>0.0</td>\n",
       "      <td>7.4</td>\n",
       "      <td>12.3</td>\n",
       "      <td>SE</td>\n",
       "      <td>33.0</td>\n",
       "      <td>SW</td>\n",
       "      <td>SSE</td>\n",
       "      <td>...</td>\n",
       "      <td>No</td>\n",
       "      <td>Summer</td>\n",
       "      <td>19.3</td>\n",
       "      <td>7.7</td>\n",
       "      <td>-1.6</td>\n",
       "      <td>-20.0</td>\n",
       "      <td>11.0</td>\n",
       "      <td>41.0</td>\n",
       "      <td>23.25</td>\n",
       "      <td>0.000000</td>\n",
       "    </tr>\n",
       "  </tbody>\n",
       "</table>\n",
       "<p>5 rows × 31 columns</p>\n",
       "</div>"
      ],
      "text/plain": [
       "           Location  MinTemp  MaxTemp  Rainfall  Evaporation  Sunshine  \\\n",
       "0  MelbourneAirport     11.2     19.9       0.0          5.6       8.8   \n",
       "1  MelbourneAirport      7.8     17.8       1.2          7.2      12.9   \n",
       "2  MelbourneAirport      6.3     21.1       0.0          6.2      10.5   \n",
       "3  MelbourneAirport      8.1     29.2       0.0          6.4      12.5   \n",
       "4  MelbourneAirport      9.7     29.0       0.0          7.4      12.3   \n",
       "\n",
       "  WindGustDir  WindGustSpeed WindDir9am WindDir3pm  ...  RainToday  Season  \\\n",
       "0          SW           69.0          W         SW  ...        Yes  Summer   \n",
       "1         SSE           56.0         SW        SSE  ...         No  Summer   \n",
       "2         SSE           31.0          E          S  ...         No  Summer   \n",
       "3         SSE           35.0         NE        SSE  ...         No  Summer   \n",
       "4          SE           33.0         SW        SSE  ...         No  Summer   \n",
       "\n",
       "   TempDiff  TempChange  PressureDiff  HumidityDiff  WindSpeedDiff  \\\n",
       "0       8.7         2.2           1.3         -18.0           10.0   \n",
       "1      10.0         3.3           1.3          -7.0           -5.0   \n",
       "2      14.8         6.2          -3.2         -16.0            6.0   \n",
       "3      21.1        12.2          -3.4         -44.0           18.0   \n",
       "4      19.3         7.7          -1.6         -20.0           11.0   \n",
       "\n",
       "   AvgHumidity  AvgTemp  RainfallPerSunshine  \n",
       "0         46.0    17.00             0.000000  \n",
       "1         46.5    14.15             0.092308  \n",
       "2         43.0    16.50             0.000000  \n",
       "3         45.0    22.10             0.000000  \n",
       "4         41.0    23.25             0.000000  \n",
       "\n",
       "[5 rows x 31 columns]"
      ]
     },
     "execution_count": 2,
     "metadata": {},
     "output_type": "execute_result"
    }
   ],
   "source": [
    "# Load the dataset\n",
    "df = pd.read_csv('../../data/processed/weatherAUS-data-engineered.csv')\n",
    "print('load success')\n",
    "df.head()"
   ]
  },
  {
   "cell_type": "code",
   "execution_count": 3,
   "id": "004fef1c",
   "metadata": {},
   "outputs": [
    {
     "name": "stdout",
     "output_type": "stream",
     "text": [
      "load model success\n"
     ]
    }
   ],
   "source": [
    "model = joblib.load('../../models/randomforest_precipicheck.pkl')\n",
    "print('load model success')"
   ]
  },
  {
   "cell_type": "code",
   "execution_count": 4,
   "id": "af79def2",
   "metadata": {},
   "outputs": [],
   "source": [
    "X = df.drop(columns=['RainToday'])\n",
    "y = df['RainToday']"
   ]
  },
  {
   "cell_type": "code",
   "execution_count": null,
   "id": "55f19e39",
   "metadata": {},
   "outputs": [],
   "source": [
    "X_train, X_test, y_train, y_test = train_test_split(X, y, test_size=0.2, random_state=42)\n",
    "model.fit(X_train, y_train)"
   ]
  },
  {
   "cell_type": "code",
   "execution_count": null,
   "id": "f17288a8",
   "metadata": {},
   "outputs": [
    {
     "name": "stdout",
     "output_type": "stream",
     "text": [
      "Accuracy: 0.86\n"
     ]
    }
   ],
   "source": [
    "# Make predictions\n",
    "y_pred = model.predict(X_test)\n",
    "\n",
    "# Evaluate the model\n",
    "accuracy = accuracy_score(y_test, y_pred)\n",
    "print(f'Accuracy: {accuracy:.2f}')"
   ]
  },
  {
   "cell_type": "code",
   "execution_count": 11,
   "id": "5ad9ad9a",
   "metadata": {},
   "outputs": [],
   "source": [
    "y_prob = model.predict_proba(X_test)"
   ]
  },
  {
   "cell_type": "markdown",
   "id": "30f8bd77",
   "metadata": {},
   "source": [
    "### Report"
   ]
  },
  {
   "cell_type": "code",
   "execution_count": 14,
   "id": "b86866cf",
   "metadata": {},
   "outputs": [
    {
     "name": "stdout",
     "output_type": "stream",
     "text": [
      "Report:\n",
      "Accuracy: 0.8558201058201058\n",
      "Precision: 0.8156475166647401\n",
      "Recall: 0.744663905702453\n",
      "F1 Score: 0.7704719858501734\n",
      "ROC AUC: 0.9003725808378463\n",
      "\n",
      "Full report:\n",
      "\n",
      "              precision    recall  f1-score   support\n",
      "\n",
      "          No       0.88      0.95      0.91      1168\n",
      "         Yes       0.76      0.54      0.63       344\n",
      "\n",
      "    accuracy                           0.86      1512\n",
      "   macro avg       0.82      0.74      0.77      1512\n",
      "weighted avg       0.85      0.86      0.85      1512\n",
      "\n"
     ]
    }
   ],
   "source": [
    "print(\"Report:\")\n",
    "print(\"Accuracy:\", accuracy_score(y_test, y_pred))\n",
    "print(\"Precision:\", precision_score(y_test, y_pred, average='macro')) # Change to 'macro' or 'weighted' if there are more than 2 classes\n",
    "print(\"Recall:\", recall_score(y_test, y_pred, average='macro'))\n",
    "print(\"F1 Score:\", f1_score(y_test, y_pred, average='macro'))\n",
    "print(\"ROC AUC:\", roc_auc_score(y_test, y_prob[:,1])) # Only for binary\n",
    "\n",
    "print(\"\\nFull report:\\n\")\n",
    "print(classification_report(y_test, y_pred))"
   ]
  },
  {
   "cell_type": "markdown",
   "id": "3b10034f",
   "metadata": {},
   "source": [
    "* ``Accuracy``: 0.856 => 85.6% of all predictions were correct (both rain and no rain).\n",
    "* ``Precision``: 0.816 => Of all the days the model predicted it would rain, it actually rained on 81.6%.\n",
    "* ``Recall``: 0.745 => The model correctly detected 74.5% of the days on which it actually rained.\n",
    "* ``F1 Score``: 0.770 => It is the balance between precision and recall.\n",
    "* ``ROC AUC``: 0.900 => The model has a 90% ability to distinguish between rainy and non-rainy days."
   ]
  },
  {
   "cell_type": "markdown",
   "id": "525d859e",
   "metadata": {},
   "source": [
    "| Metric | Result | Interpretation |\n",
    "| --------- | --------- | ----------------------------------------------------------------- |\n",
    "| Accuracy | 85.6% | Generally reliable if the classes are not too unbalanced. |\n",
    "| Precision | 81.6% | High → Few false alarms. |\n",
    "| Recall | 74.5% | Good → Detects most rainy days. |\n",
    "| F1 Score | 77.0% | Good balance between precision and recall. |\n",
    "| ROC AUC | 90.0% | Very good model in terms of overall discrimination. |"
   ]
  },
  {
   "cell_type": "markdown",
   "id": "af45f88f",
   "metadata": {},
   "source": [
    "### Confusion matrix"
   ]
  },
  {
   "cell_type": "code",
   "execution_count": 74,
   "id": "91c921aa",
   "metadata": {},
   "outputs": [
    {
     "data": {
      "image/png": "[encoded data removed]",
      "text/plain": [
       "<Figure size 640x480 with 2 Axes>"
      ]
     },
     "metadata": {},
     "output_type": "display_data"
    }
   ],
   "source": [
    "cm = confusion_matrix(y_test, y_pred)\n",
    "disp = ConfusionMatrixDisplay(confusion_matrix=cm)\n",
    "disp.plot(cmap='Blues')\n",
    "plt.title(\"Confusion Matrix for Random Forest Classifier\")\n",
    "plt.xlabel('Predicted')\n",
    "plt.ylabel('True')\n",
    "plt.xticks(ticks=[0, 1], labels=['No Rain', 'Rain'])\n",
    "plt.yticks(ticks=[0, 1], labels=['No Rain', 'Rain'])\n",
    "plt.grid(False)\n",
    "\n",
    "# save the figure\n",
    "plt.savefig('../../reports/figures/confusion_matrix.png', dpi=300, bbox_inches='tight')\n",
    "plt.show()"
   ]
  },
  {
   "cell_type": "markdown",
   "id": "2da0aee3",
   "metadata": {},
   "source": [
    "### What does this matrix reveal?\n",
    "* The model is very good at ``predicting \"No Rain\" (94.7% specificity)``.\n",
    "* But it ``struggles`` to detect ``\"Rain\" (low recall: 54.6%)``.\n",
    "* This could mean that the ``model is conservative``, only predicting \"Rain\" when it is very confident."
   ]
  },
  {
   "cell_type": "markdown",
   "id": "328d7a89",
   "metadata": {},
   "source": [
    "**Predicted probability ditribution**"
   ]
  },
  {
   "cell_type": "code",
   "execution_count": 13,
   "id": "2ab14a62",
   "metadata": {},
   "outputs": [
    {
     "data": {
      "image/png": "[encoded data removed]",
      "text/plain": [
       "<Figure size 800x600 with 1 Axes>"
      ]
     },
     "metadata": {},
     "output_type": "display_data"
    }
   ],
   "source": [
    "plt.figure(figsize=(8,6))\n",
    "sns.histplot(y_prob, bins=30, kde=True)\n",
    "plt.title('Predicted probability distribution (positive class)')\n",
    "plt.xlabel('Predicted probability')\n",
    "plt.ylabel('Number of samples')\n",
    "plt.grid()\n",
    "\n",
    "# Save the figure\n",
    "plt.savefig('../../reports/figures/predicted_probability_distribution.png', dpi=300, bbox_inches='tight')\n",
    "plt.tight_layout()\n",
    "plt.show()"
   ]
  },
  {
   "cell_type": "markdown",
   "id": "9bb036ad",
   "metadata": {},
   "source": [
    "**What does this graph show?**\n",
    "\n",
    "🔵 Class 0 (No Rain):\n",
    "\n",
    "``High concentration near probability = 0``, which is expected and desired.\n",
    "\n",
    "Much of this data has ``low probability values ​​(< 0.2), indicating that the model is doing a good job of predicting days without rain``.\n",
    "\n",
    "🟠 Class 1 (Rain):\n",
    "\n",
    "Many predictions have ``low probability (< 0.4), even though it actually rained``!\n",
    "\n",
    "This explains why our model has a ``low recall (54.6%)``: it is labeling ``many days that actually rained as \"No Rain\"``."
   ]
  },
  {
   "cell_type": "markdown",
   "id": "df534110",
   "metadata": {},
   "source": [
    "The model is very hesitant when predicting rain, and only does so when it is very certain. This results in low recall for the \"Rain\" class, as we saw in the confusion matrix. This graph clearly confirms this."
   ]
  },
  {
   "cell_type": "markdown",
   "id": "6ede951e",
   "metadata": {},
   "source": [
    "### ``Conclusion``\n",
    "This model classifies days without rain very well, but it still has room for improvement in detecting rainy days. We could improve this by adjusting the ``decision threshold``, using resampling techniques (SMOTE, undersampling), ``or adjusting class weights``."
   ]
  },
  {
   "cell_type": "markdown",
   "id": "7a36b525",
   "metadata": {},
   "source": [
    "## FeatureImportance\n",
    "We obtain all the feature importances and associate them with their transformed features."
   ]
  },
  {
   "cell_type": "code",
   "execution_count": 59,
   "id": "467020fa",
   "metadata": {},
   "outputs": [],
   "source": [
    "feature_importances = model.best_estimator_['classifier'].feature_importances_"
   ]
  },
  {
   "cell_type": "code",
   "execution_count": 60,
   "id": "5f6c0173",
   "metadata": {},
   "outputs": [],
   "source": [
    "numeric_features = X_train.select_dtypes(include=['float']).columns.tolist()\n",
    "categorical_features = X_train.select_dtypes(include=['object', 'category']).columns.tolist()"
   ]
  },
  {
   "cell_type": "markdown",
   "id": "ffd9e477",
   "metadata": {},
   "source": [
    "We graph it"
   ]
  },
  {
   "cell_type": "code",
   "execution_count": null,
   "id": "b98f5702",
   "metadata": {},
   "outputs": [
    {
     "data": {
      "image/png": "[encoded data removed]",
      "text/plain": [
       "<Figure size 1000x600 with 1 Axes>"
      ]
     },
     "metadata": {},
     "output_type": "display_data"
    }
   ],
   "source": [
    "# Combine numeric and categorical feature names\n",
    "feature_names = numeric_features + list(model.best_estimator_['preprocessor']\n",
    "                                        .named_transformers_['cat']\n",
    "                                        .named_steps['onehot']\n",
    "                                        .get_feature_names_out(categorical_features))\n",
    "\n",
    "feature_importances = model.best_estimator_['classifier'].feature_importances_\n",
    "\n",
    "importance_df = pd.DataFrame({'Feature': feature_names,\n",
    "                              'Importance': feature_importances\n",
    "                             }).sort_values(by='Importance', ascending=False)\n",
    "\n",
    "N = 20\n",
    "top_features = importance_df.head(N)\n",
    "\n",
    "# Plotting\n",
    "plt.figure(figsize=(10, 6))\n",
    "plt.barh(top_features['Feature'], top_features['Importance'], color='skyblue')\n",
    "plt.gca().invert_yaxis()  # Invert y-axis to show the most important feature on top\n",
    "plt.title(f'Top {N} Most Important Features in predicting whether it will rain today')\n",
    "plt.xlabel('Importance Score')\n",
    "\n",
    "# Save the figure\n",
    "plt.savefig('../../reports/figures/feature_importance.png', dpi=300, bbox_inches='tight')\n",
    "plt.tight_layout()\n",
    "plt.show()"
   ]
  },
  {
   "cell_type": "markdown",
   "id": "624187e5",
   "metadata": {},
   "source": [
    "The graph clearly shows the 20 most important features used by the model to predict whether it will rain today (RainToday). We could further improve the model by reducing the dimensionality or continuing to adjust the weights as we saw earlier. We could even adjust the decision threshold, since we used the default parameters (y_proba > 0.5).\n"
   ]
  },
  {
   "cell_type": "markdown",
   "id": "fb992bef",
   "metadata": {},
   "source": [
    "<br>"
   ]
  },
  {
   "cell_type": "markdown",
   "id": "f9183ae5",
   "metadata": {},
   "source": [
    "### Final conclusions\n",
    "<hr>"
   ]
  },
  {
   "cell_type": "markdown",
   "id": "18aa1f6c",
   "metadata": {},
   "source": [
    "We could test different models and even revise the data analysis to improve the performance of this model. Perhaps we can design better features, discard irrelevant or redundant ones, project your data into a dimensional feature space, or impute missing values ​​so we can use more data. You could also try a broader set of parameters to define our search grid, or even design new features using cluster analysis. Or perhaps include the clustering algorithm's hyperparameters in the search grid..."
   ]
  },
  {
   "cell_type": "markdown",
   "id": "45864a4c",
   "metadata": {},
   "source": [
    "But overall, we achieved a very well-balanced model that performs excellently for a real-world problem."
   ]
  },
  {
   "cell_type": "markdown",
   "id": "83a8360b",
   "metadata": {},
   "source": [
    "<br>"
   ]
  },
  {
   "cell_type": "markdown",
   "id": "3f9b0e7d",
   "metadata": {},
   "source": [
    "<hr>"
   ]
  },
  {
   "cell_type": "markdown",
   "id": "9966bb14",
   "metadata": {},
   "source": [
    "## Author\n",
    "\n",
    "<a href=\"https://www.linkedin.com/in/flavio-aguirre-12784a252/\">**Flavio Aguirre**</a>\n",
    "<br>\n",
    "<a href=\"https://coursera.org/share/e27ae5af81b56f99a2aa85289b7cdd04\">***Data Scientist***</a>"
   ]
  }
 ],
 "metadata": {
  "kernelspec": {
   "display_name": ".venv",
   "language": "python",
   "name": "python3"
  },
  "language_info": {
   "codemirror_mode": {
    "name": "ipython",
    "version": 3
   },
   "file_extension": ".py",
   "mimetype": "text/x-python",
   "name": "python",
   "nbconvert_exporter": "python",
   "pygments_lexer": "ipython3",
   "version": "3.12.3"
  }
 },
 "nbformat": 4,
 "nbformat_minor": 5
}
