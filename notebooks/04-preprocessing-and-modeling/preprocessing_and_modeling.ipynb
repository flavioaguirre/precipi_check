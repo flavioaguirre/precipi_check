{
 "cells": [
  {
   "cell_type": "markdown",
   "id": "b48be9ef",
   "metadata": {},
   "source": [
    "<p style=\"text-align:center\"> \n",
    "    <a href=\"https://www.linkedin.com/in/flavio-aguirre-12784a252/\" target=\"_blank\"> \n",
    "    <img src=\"../../assets/logo.png\" width=\"200\" alt=\"Flavio Aguirre Logo\"> \n",
    "    </a>\n",
    "</p>\n",
    "\n",
    "# <h1 align=\"center\"><font size=\"7\"><strong>Weather Wise</strong></font></h1>\n",
    "<hr>"
   ]
  },
  {
   "cell_type": "markdown",
   "id": "9d04163c",
   "metadata": {},
   "source": [
    "## Preprocessing and Modeling"
   ]
  },
  {
   "cell_type": "markdown",
   "id": "32ef96cd",
   "metadata": {},
   "source": [
    "Now that we have our data with new features and having determined that we have unbalanced classes, we will proceed to divide the data into training and test sets to ensure the target stratification."
   ]
  },
  {
   "cell_type": "code",
   "execution_count": 1,
   "id": "121140cc",
   "metadata": {},
   "outputs": [],
   "source": [
    "import pandas as pd\n",
    "import joblib\n",
    "\n",
    "from sklearn.model_selection import train_test_split, GridSearchCV, StratifiedKFold\n",
    "from sklearn.preprocessing import StandardScaler, OneHotEncoder\n",
    "from sklearn.compose import ColumnTransformer\n",
    "from sklearn.pipeline import Pipeline\n",
    "from sklearn.ensemble import RandomForestClassifier\n",
    "\n",
    "\n",
    "import warnings\n",
    "warnings.filterwarnings(\"ignore\")"
   ]
  },
  {
   "cell_type": "markdown",
   "id": "db128f87",
   "metadata": {},
   "source": [
    "We use our new dataset with the new features"
   ]
  },
  {
   "cell_type": "code",
   "execution_count": 35,
   "id": "64a5dfeb",
   "metadata": {},
   "outputs": [
    {
     "name": "stdout",
     "output_type": "stream",
     "text": [
      "load success\n"
     ]
    },
    {
     "data": {
      "application/vnd.microsoft.datawrangler.viewer.v0+json": {
       "columns": [
        {
         "name": "index",
         "rawType": "int64",
         "type": "integer"
        },
        {
         "name": "Location",
         "rawType": "object",
         "type": "string"
        },
        {
         "name": "MinTemp",
         "rawType": "float64",
         "type": "float"
        },
        {
         "name": "MaxTemp",
         "rawType": "float64",
         "type": "float"
        },
        {
         "name": "Rainfall",
         "rawType": "float64",
         "type": "float"
        },
        {
         "name": "Evaporation",
         "rawType": "float64",
         "type": "float"
        },
        {
         "name": "Sunshine",
         "rawType": "float64",
         "type": "float"
        },
        {
         "name": "WindGustDir",
         "rawType": "object",
         "type": "string"
        },
        {
         "name": "WindGustSpeed",
         "rawType": "float64",
         "type": "float"
        },
        {
         "name": "WindDir9am",
         "rawType": "object",
         "type": "string"
        },
        {
         "name": "WindDir3pm",
         "rawType": "object",
         "type": "string"
        },
        {
         "name": "WindSpeed9am",
         "rawType": "float64",
         "type": "float"
        },
        {
         "name": "WindSpeed3pm",
         "rawType": "float64",
         "type": "float"
        },
        {
         "name": "Humidity9am",
         "rawType": "float64",
         "type": "float"
        },
        {
         "name": "Humidity3pm",
         "rawType": "float64",
         "type": "float"
        },
        {
         "name": "Pressure9am",
         "rawType": "float64",
         "type": "float"
        },
        {
         "name": "Pressure3pm",
         "rawType": "float64",
         "type": "float"
        },
        {
         "name": "Cloud9am",
         "rawType": "float64",
         "type": "float"
        },
        {
         "name": "Cloud3pm",
         "rawType": "float64",
         "type": "float"
        },
        {
         "name": "Temp9am",
         "rawType": "float64",
         "type": "float"
        },
        {
         "name": "Temp3pm",
         "rawType": "float64",
         "type": "float"
        },
        {
         "name": "RainYesterday",
         "rawType": "object",
         "type": "string"
        },
        {
         "name": "RainToday",
         "rawType": "object",
         "type": "string"
        },
        {
         "name": "Season",
         "rawType": "object",
         "type": "string"
        },
        {
         "name": "TempDiff",
         "rawType": "float64",
         "type": "float"
        },
        {
         "name": "TempChange",
         "rawType": "float64",
         "type": "float"
        },
        {
         "name": "PressureDiff",
         "rawType": "float64",
         "type": "float"
        },
        {
         "name": "HumidityDiff",
         "rawType": "float64",
         "type": "float"
        },
        {
         "name": "WindSpeedDiff",
         "rawType": "float64",
         "type": "float"
        },
        {
         "name": "AvgHumidity",
         "rawType": "float64",
         "type": "float"
        },
        {
         "name": "AvgTemp",
         "rawType": "float64",
         "type": "float"
        },
        {
         "name": "RainfallPerSunshine",
         "rawType": "float64",
         "type": "float"
        }
       ],
       "conversionMethod": "pd.DataFrame",
       "ref": "97d14901-6394-4e76-8ec9-b7ead5805438",
       "rows": [
        [
         "0",
         "MelbourneAirport",
         "11.2",
         "19.9",
         "0.0",
         "5.6",
         "8.8",
         "SW",
         "69.0",
         "W",
         "SW",
         "33.0",
         "43.0",
         "55.0",
         "37.0",
         "1005.1",
         "1006.4",
         "7.0",
         "7.0",
         "15.9",
         "18.1",
         "No",
         "Yes",
         "Summer",
         "8.7",
         "2.200000000000001",
         "1.2999999999999543",
         "-18.0",
         "10.0",
         "46.0",
         "17.0",
         "0.0"
        ],
        [
         "1",
         "MelbourneAirport",
         "7.8",
         "17.8",
         "1.2",
         "7.2",
         "12.9",
         "SSE",
         "56.0",
         "SW",
         "SSE",
         "31.0",
         "26.0",
         "50.0",
         "43.0",
         "1018.0",
         "1019.3",
         "6.0",
         "7.0",
         "12.5",
         "15.8",
         "Yes",
         "No",
         "Summer",
         "10.0",
         "3.3000000000000007",
         "1.2999999999999543",
         "-7.0",
         "-5.0",
         "46.5",
         "14.15",
         "0.0923076923076923"
        ],
        [
         "2",
         "MelbourneAirport",
         "6.3",
         "21.1",
         "0.0",
         "6.2",
         "10.5",
         "SSE",
         "31.0",
         "E",
         "S",
         "13.0",
         "19.0",
         "51.0",
         "35.0",
         "1020.8",
         "1017.6",
         "1.0",
         "7.0",
         "13.4",
         "19.6",
         "No",
         "No",
         "Summer",
         "14.8",
         "6.200000000000001",
         "-3.199999999999932",
         "-16.0",
         "6.0",
         "43.0",
         "16.5",
         "0.0"
        ],
        [
         "3",
         "MelbourneAirport",
         "8.1",
         "29.2",
         "0.0",
         "6.4",
         "12.5",
         "SSE",
         "35.0",
         "NE",
         "SSE",
         "2.0",
         "20.0",
         "67.0",
         "23.0",
         "1016.2",
         "1012.8",
         "5.0",
         "4.0",
         "16.0",
         "28.2",
         "No",
         "No",
         "Summer",
         "21.1",
         "12.2",
         "-3.400000000000091",
         "-44.0",
         "18.0",
         "45.0",
         "22.1",
         "0.0"
        ],
        [
         "4",
         "MelbourneAirport",
         "9.7",
         "29.0",
         "0.0",
         "7.4",
         "12.3",
         "SE",
         "33.0",
         "SW",
         "SSE",
         "9.0",
         "20.0",
         "51.0",
         "31.0",
         "1011.9",
         "1010.3",
         "6.0",
         "2.0",
         "19.4",
         "27.1",
         "No",
         "No",
         "Summer",
         "19.3",
         "7.700000000000003",
         "-1.6000000000000227",
         "-20.0",
         "11.0",
         "41.0",
         "23.25",
         "0.0"
        ]
       ],
       "shape": {
        "columns": 31,
        "rows": 5
       }
      },
      "text/html": [
       "<div>\n",
       "<style scoped>\n",
       "    .dataframe tbody tr th:only-of-type {\n",
       "        vertical-align: middle;\n",
       "    }\n",
       "\n",
       "    .dataframe tbody tr th {\n",
       "        vertical-align: top;\n",
       "    }\n",
       "\n",
       "    .dataframe thead th {\n",
       "        text-align: right;\n",
       "    }\n",
       "</style>\n",
       "<table border=\"1\" class=\"dataframe\">\n",
       "  <thead>\n",
       "    <tr style=\"text-align: right;\">\n",
       "      <th></th>\n",
       "      <th>Location</th>\n",
       "      <th>MinTemp</th>\n",
       "      <th>MaxTemp</th>\n",
       "      <th>Rainfall</th>\n",
       "      <th>Evaporation</th>\n",
       "      <th>Sunshine</th>\n",
       "      <th>WindGustDir</th>\n",
       "      <th>WindGustSpeed</th>\n",
       "      <th>WindDir9am</th>\n",
       "      <th>WindDir3pm</th>\n",
       "      <th>...</th>\n",
       "      <th>RainToday</th>\n",
       "      <th>Season</th>\n",
       "      <th>TempDiff</th>\n",
       "      <th>TempChange</th>\n",
       "      <th>PressureDiff</th>\n",
       "      <th>HumidityDiff</th>\n",
       "      <th>WindSpeedDiff</th>\n",
       "      <th>AvgHumidity</th>\n",
       "      <th>AvgTemp</th>\n",
       "      <th>RainfallPerSunshine</th>\n",
       "    </tr>\n",
       "  </thead>\n",
       "  <tbody>\n",
       "    <tr>\n",
       "      <th>0</th>\n",
       "      <td>MelbourneAirport</td>\n",
       "      <td>11.2</td>\n",
       "      <td>19.9</td>\n",
       "      <td>0.0</td>\n",
       "      <td>5.6</td>\n",
       "      <td>8.8</td>\n",
       "      <td>SW</td>\n",
       "      <td>69.0</td>\n",
       "      <td>W</td>\n",
       "      <td>SW</td>\n",
       "      <td>...</td>\n",
       "      <td>Yes</td>\n",
       "      <td>Summer</td>\n",
       "      <td>8.7</td>\n",
       "      <td>2.2</td>\n",
       "      <td>1.3</td>\n",
       "      <td>-18.0</td>\n",
       "      <td>10.0</td>\n",
       "      <td>46.0</td>\n",
       "      <td>17.00</td>\n",
       "      <td>0.000000</td>\n",
       "    </tr>\n",
       "    <tr>\n",
       "      <th>1</th>\n",
       "      <td>MelbourneAirport</td>\n",
       "      <td>7.8</td>\n",
       "      <td>17.8</td>\n",
       "      <td>1.2</td>\n",
       "      <td>7.2</td>\n",
       "      <td>12.9</td>\n",
       "      <td>SSE</td>\n",
       "      <td>56.0</td>\n",
       "      <td>SW</td>\n",
       "      <td>SSE</td>\n",
       "      <td>...</td>\n",
       "      <td>No</td>\n",
       "      <td>Summer</td>\n",
       "      <td>10.0</td>\n",
       "      <td>3.3</td>\n",
       "      <td>1.3</td>\n",
       "      <td>-7.0</td>\n",
       "      <td>-5.0</td>\n",
       "      <td>46.5</td>\n",
       "      <td>14.15</td>\n",
       "      <td>0.092308</td>\n",
       "    </tr>\n",
       "    <tr>\n",
       "      <th>2</th>\n",
       "      <td>MelbourneAirport</td>\n",
       "      <td>6.3</td>\n",
       "      <td>21.1</td>\n",
       "      <td>0.0</td>\n",
       "      <td>6.2</td>\n",
       "      <td>10.5</td>\n",
       "      <td>SSE</td>\n",
       "      <td>31.0</td>\n",
       "      <td>E</td>\n",
       "      <td>S</td>\n",
       "      <td>...</td>\n",
       "      <td>No</td>\n",
       "      <td>Summer</td>\n",
       "      <td>14.8</td>\n",
       "      <td>6.2</td>\n",
       "      <td>-3.2</td>\n",
       "      <td>-16.0</td>\n",
       "      <td>6.0</td>\n",
       "      <td>43.0</td>\n",
       "      <td>16.50</td>\n",
       "      <td>0.000000</td>\n",
       "    </tr>\n",
       "    <tr>\n",
       "      <th>3</th>\n",
       "      <td>MelbourneAirport</td>\n",
       "      <td>8.1</td>\n",
       "      <td>29.2</td>\n",
       "      <td>0.0</td>\n",
       "      <td>6.4</td>\n",
       "      <td>12.5</td>\n",
       "      <td>SSE</td>\n",
       "      <td>35.0</td>\n",
       "      <td>NE</td>\n",
       "      <td>SSE</td>\n",
       "      <td>...</td>\n",
       "      <td>No</td>\n",
       "      <td>Summer</td>\n",
       "      <td>21.1</td>\n",
       "      <td>12.2</td>\n",
       "      <td>-3.4</td>\n",
       "      <td>-44.0</td>\n",
       "      <td>18.0</td>\n",
       "      <td>45.0</td>\n",
       "      <td>22.10</td>\n",
       "      <td>0.000000</td>\n",
       "    </tr>\n",
       "    <tr>\n",
       "      <th>4</th>\n",
       "      <td>MelbourneAirport</td>\n",
       "      <td>9.7</td>\n",
       "      <td>29.0</td>\n",
       "      <td>0.0</td>\n",
       "      <td>7.4</td>\n",
       "      <td>12.3</td>\n",
       "      <td>SE</td>\n",
       "      <td>33.0</td>\n",
       "      <td>SW</td>\n",
       "      <td>SSE</td>\n",
       "      <td>...</td>\n",
       "      <td>No</td>\n",
       "      <td>Summer</td>\n",
       "      <td>19.3</td>\n",
       "      <td>7.7</td>\n",
       "      <td>-1.6</td>\n",
       "      <td>-20.0</td>\n",
       "      <td>11.0</td>\n",
       "      <td>41.0</td>\n",
       "      <td>23.25</td>\n",
       "      <td>0.000000</td>\n",
       "    </tr>\n",
       "  </tbody>\n",
       "</table>\n",
       "<p>5 rows × 31 columns</p>\n",
       "</div>"
      ],
      "text/plain": [
       "           Location  MinTemp  MaxTemp  Rainfall  Evaporation  Sunshine  \\\n",
       "0  MelbourneAirport     11.2     19.9       0.0          5.6       8.8   \n",
       "1  MelbourneAirport      7.8     17.8       1.2          7.2      12.9   \n",
       "2  MelbourneAirport      6.3     21.1       0.0          6.2      10.5   \n",
       "3  MelbourneAirport      8.1     29.2       0.0          6.4      12.5   \n",
       "4  MelbourneAirport      9.7     29.0       0.0          7.4      12.3   \n",
       "\n",
       "  WindGustDir  WindGustSpeed WindDir9am WindDir3pm  ...  RainToday  Season  \\\n",
       "0          SW           69.0          W         SW  ...        Yes  Summer   \n",
       "1         SSE           56.0         SW        SSE  ...         No  Summer   \n",
       "2         SSE           31.0          E          S  ...         No  Summer   \n",
       "3         SSE           35.0         NE        SSE  ...         No  Summer   \n",
       "4          SE           33.0         SW        SSE  ...         No  Summer   \n",
       "\n",
       "   TempDiff  TempChange  PressureDiff  HumidityDiff  WindSpeedDiff  \\\n",
       "0       8.7         2.2           1.3         -18.0           10.0   \n",
       "1      10.0         3.3           1.3          -7.0           -5.0   \n",
       "2      14.8         6.2          -3.2         -16.0            6.0   \n",
       "3      21.1        12.2          -3.4         -44.0           18.0   \n",
       "4      19.3         7.7          -1.6         -20.0           11.0   \n",
       "\n",
       "   AvgHumidity  AvgTemp  RainfallPerSunshine  \n",
       "0         46.0    17.00             0.000000  \n",
       "1         46.5    14.15             0.092308  \n",
       "2         43.0    16.50             0.000000  \n",
       "3         45.0    22.10             0.000000  \n",
       "4         41.0    23.25             0.000000  \n",
       "\n",
       "[5 rows x 31 columns]"
      ]
     },
     "execution_count": 35,
     "metadata": {},
     "output_type": "execute_result"
    }
   ],
   "source": [
    "df = pd.read_csv('../../data/processed/weatherAUS-data-engineered.csv')\n",
    "print('load success')\n",
    "df.head()"
   ]
  },
  {
   "cell_type": "code",
   "execution_count": 36,
   "id": "b78f5469",
   "metadata": {},
   "outputs": [],
   "source": [
    "# Define the features and target variable\n",
    "X = df.drop(columns=['RainToday'])\n",
    "y = df['RainToday']"
   ]
  },
  {
   "cell_type": "markdown",
   "id": "43ca19e3",
   "metadata": {},
   "source": [
    "### We split the dataset into the training set and the test set."
   ]
  },
  {
   "cell_type": "code",
   "execution_count": 37,
   "id": "5f19f071",
   "metadata": {},
   "outputs": [],
   "source": [
    "X_train, X_test, y_train, y_test = train_test_split(\n",
    "    X,\n",
    "    y,\n",
    "    test_size = 0.2,\n",
    "    stratify = y,\n",
    "    random_state = 42\n",
    ")"
   ]
  },
  {
   "cell_type": "markdown",
   "id": "2e838437",
   "metadata": {},
   "source": [
    "### Define preprocessing transformers for numeric and categorical features\n",
    "We can automatically detect numeric and categorical columns and map them to separate numeric and categorical features."
   ]
  },
  {
   "cell_type": "code",
   "execution_count": 38,
   "id": "a3c75101",
   "metadata": {},
   "outputs": [],
   "source": [
    "numeric_features = X_train.select_dtypes(include=['float']).columns.tolist()\n",
    "categorical_features = X_train.select_dtypes(include=['object', 'category']).columns.tolist()"
   ]
  },
  {
   "cell_type": "code",
   "execution_count": 39,
   "id": "717c8f1d",
   "metadata": {},
   "outputs": [
    {
     "name": "stdout",
     "output_type": "stream",
     "text": [
      "Numeric features: ['MinTemp', 'MaxTemp', 'Rainfall', 'Evaporation', 'Sunshine', 'WindGustSpeed', 'WindSpeed9am', 'WindSpeed3pm', 'Humidity9am', 'Humidity3pm', 'Pressure9am', 'Pressure3pm', 'Cloud9am', 'Cloud3pm', 'Temp9am', 'Temp3pm', 'TempDiff', 'TempChange', 'PressureDiff', 'HumidityDiff', 'WindSpeedDiff', 'AvgHumidity', 'AvgTemp', 'RainfallPerSunshine']\n",
      "\n",
      "Categorical features: ['Location', 'WindGustDir', 'WindDir9am', 'WindDir3pm', 'RainYesterday', 'Season']\n"
     ]
    }
   ],
   "source": [
    "print(f\"Numeric features: {numeric_features}\\n\")\n",
    "print(f\"Categorical features: {categorical_features}\")"
   ]
  },
  {
   "cell_type": "markdown",
   "id": "c26259f5",
   "metadata": {},
   "source": [
    "Let's define separate transformers for both types of features and combine them into a single preprocessing transformer"
   ]
  },
  {
   "cell_type": "code",
   "execution_count": 40,
   "id": "ea62555c",
   "metadata": {},
   "outputs": [],
   "source": [
    "# Scale numeric features\n",
    "numeric_transformer = Pipeline(steps=[('scaler', StandardScaler())])\n",
    "\n",
    "# One-hot encode categorical features\n",
    "categorical_transformer = Pipeline(steps=[('onehot', OneHotEncoder(handle_unknown='ignore'))])"
   ]
  },
  {
   "cell_type": "markdown",
   "id": "0437c2ee",
   "metadata": {},
   "source": [
    "We now combine the transformers into a single preprocessing column transformer."
   ]
  },
  {
   "cell_type": "code",
   "execution_count": 42,
   "id": "1c960ade",
   "metadata": {},
   "outputs": [],
   "source": [
    "preprocessor = ColumnTransformer(\n",
    "    transformers=[\n",
    "        ('num', numeric_transformer, numeric_features),\n",
    "        ('cat', categorical_transformer, categorical_features)\n",
    "    ]\n",
    ")"
   ]
  },
  {
   "cell_type": "markdown",
   "id": "328d5920",
   "metadata": {},
   "source": [
    "We created a pipeline combining preprocessing with a Random Forest classifier"
   ]
  },
  {
   "cell_type": "markdown",
   "id": "0ddcb284",
   "metadata": {},
   "source": [
    "<details>\n",
    "    <strong>\n",
    "        A random forest regression model was chosen because, given the technical requirements of the problem to be solved, it is the ideal candidate. This does not mean we cannot experiment with other models.\n",
    "    </strong>\n",
    "</details>\n"
   ]
  },
  {
   "cell_type": "code",
   "execution_count": 43,
   "id": "2a9067dc",
   "metadata": {},
   "outputs": [],
   "source": [
    "pipeline = Pipeline(steps=[\n",
    "    ('preprocessor', preprocessor),\n",
    "    ('classifier', RandomForestClassifier(random_state=42))\n",
    "])"
   ]
  },
  {
   "cell_type": "markdown",
   "id": "816a4a6e",
   "metadata": {},
   "source": [
    "### We define a parameter grid to use in a cross-validation grid search model optimizer"
   ]
  },
  {
   "cell_type": "code",
   "execution_count": 44,
   "id": "09977422",
   "metadata": {},
   "outputs": [],
   "source": [
    "param_grid = {\n",
    "    'classifier__n_estimators': [50, 100],\n",
    "    'classifier__max_depth': [None, 10, 20],\n",
    "    'classifier__min_samples_split': [2, 5]\n",
    "}"
   ]
  },
  {
   "cell_type": "markdown",
   "id": "eee68a8e",
   "metadata": {},
   "source": [
    "We performed grid search cross-validation to find the optimal model parameters to best fit the training data. To do this, we selected a cross-validation method that ensures the desired stratification during validation."
   ]
  },
  {
   "cell_type": "code",
   "execution_count": 45,
   "id": "ed1442d4",
   "metadata": {},
   "outputs": [],
   "source": [
    "cv = StratifiedKFold(n_splits=5, shuffle=True)"
   ]
  },
  {
   "cell_type": "markdown",
   "id": "ac29ec09",
   "metadata": {},
   "source": [
    "We instantiate and adjust GridSearchCV to the pipeline"
   ]
  },
  {
   "cell_type": "code",
   "execution_count": null,
   "id": "77d76325",
   "metadata": {},
   "outputs": [],
   "source": [
    "model = GridSearchCV(pipeline, param_grid, cv=cv, scoring='accuracy', verbose=2)  \n",
    "model.fit(X_train, y_train)"
   ]
  },
  {
   "cell_type": "markdown",
   "id": "88b598d1",
   "metadata": {},
   "source": [
    "### We observe the best parameters and the best cross-validation score"
   ]
  },
  {
   "cell_type": "code",
   "execution_count": 47,
   "id": "804afe27",
   "metadata": {},
   "outputs": [
    {
     "name": "stdout",
     "output_type": "stream",
     "text": [
      "Best parameters found: {'classifier__max_depth': None, 'classifier__min_samples_split': 2, 'classifier__n_estimators': 100}\n",
      "\n",
      "Best cross-validation score: 0.86\n"
     ]
    }
   ],
   "source": [
    "print(f\"Best parameters found: {model.best_params_}\\n\")\n",
    "print(f\"Best cross-validation score: {model.best_score_:.2f}\")"
   ]
  },
  {
   "cell_type": "markdown",
   "id": "9c6d1feb",
   "metadata": {},
   "source": [
    "### Now let's look at the estimated score of our model"
   ]
  },
  {
   "cell_type": "code",
   "execution_count": 48,
   "id": "a3fc61e3",
   "metadata": {},
   "outputs": [
    {
     "name": "stdout",
     "output_type": "stream",
     "text": [
      "Test set score: 0.85\n"
     ]
    }
   ],
   "source": [
    "test_score = model.score(X_test, y_test)  \n",
    "print(f\"Test set score: {test_score:.2f}\")"
   ]
  },
  {
   "cell_type": "markdown",
   "id": "0c6b466e",
   "metadata": {},
   "source": [
    "So we have a reasonably accurate classifier, expected to correctly predict whether it will rain today in the Melbourne area approximately 85% of the time.\n",
    "Let's analyze the results in more detail."
   ]
  },
  {
   "cell_type": "markdown",
   "id": "b6ee71fb",
   "metadata": {},
   "source": [
    "We proceed to save the best model for evaluation and final conclusions."
   ]
  },
  {
   "cell_type": "code",
   "execution_count": 49,
   "id": "4272acf7",
   "metadata": {},
   "outputs": [
    {
     "name": "stdout",
     "output_type": "stream",
     "text": [
      "Saved model\n"
     ]
    }
   ],
   "source": [
    "joblib.dump(model, '../../models/model_randomforest_precipicheck.pkl')\n",
    "print(\"Saved model\")"
   ]
  },
  {
   "cell_type": "markdown",
   "id": "57dc214a",
   "metadata": {},
   "source": [
    "<hr>"
   ]
  },
  {
   "cell_type": "markdown",
   "id": "73be178a",
   "metadata": {},
   "source": [
    "## Author\n",
    "\n",
    "<a href=\"https://www.linkedin.com/in/flavio-aguirre-12784a252/\">**Flavio Aguirre**</a>\n",
    "<br>\n",
    "<a href=\"https://coursera.org/share/e27ae5af81b56f99a2aa85289b7cdd04\">***Data Scientist***</a>"
   ]
  }
 ],
 "metadata": {
  "kernelspec": {
   "display_name": ".venv",
   "language": "python",
   "name": "python3"
  },
  "language_info": {
   "codemirror_mode": {
    "name": "ipython",
    "version": 3
   },
   "file_extension": ".py",
   "mimetype": "text/x-python",
   "name": "python",
   "nbconvert_exporter": "python",
   "pygments_lexer": "ipython3",
   "version": "3.12.3"
  }
 },
 "nbformat": 4,
 "nbformat_minor": 5
}
